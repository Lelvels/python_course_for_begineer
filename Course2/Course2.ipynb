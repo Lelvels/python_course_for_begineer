{
 "cells": [
  {
   "cell_type": "markdown",
   "metadata": {},
   "source": [
    "# Khoá học Python cơ bản\n",
    "## Buổi 2: Giới thiệu về Python cơ bản\n",
    "Thông tin tác giả: \n",
    "- Email: levels1912@gmail.com \n",
    "- SĐT: 0936055146 (có Zalo)"
   ]
  },
  {
   "cell_type": "markdown",
   "metadata": {},
   "source": [
    "# Các kiểu dữ liệu non-premitive trong Python"
   ]
  },
  {
   "cell_type": "markdown",
   "metadata": {},
   "source": [
    "# Mảng"
   ]
  },
  {
   "cell_type": "code",
   "execution_count": 1,
   "metadata": {},
   "outputs": [
    {
     "data": {
      "text/plain": [
       "[1, 'hello world', False, [1, 2, 3], 5]"
      ]
     },
     "execution_count": 1,
     "metadata": {},
     "output_type": "execute_result"
    }
   ],
   "source": [
    "array = [1, \"hello world\", False, [1, 2, 3], 5]\n",
    "array"
   ]
  },
  {
   "cell_type": "code",
   "execution_count": 2,
   "metadata": {},
   "outputs": [
    {
     "name": "stdout",
     "output_type": "stream",
     "text": [
      "First element: 1\n",
      "Second element: hello world\n",
      "Third element: False\n",
      "Fourth element: [1, 2, 3]\n",
      "Fifth element: 5\n"
     ]
    }
   ],
   "source": [
    "print(f\"First element: {array[0]}\")\n",
    "print(f\"Second element: {array[1]}\")\n",
    "print(f\"Third element: {array[2]}\")\n",
    "print(f\"Fourth element: {array[3]}\")\n",
    "print(f\"Fifth element: {array[-1]}\") "
   ]
  },
  {
   "cell_type": "code",
   "execution_count": 3,
   "metadata": {},
   "outputs": [
    {
     "data": {
      "text/plain": [
       "1"
      ]
     },
     "execution_count": 3,
     "metadata": {},
     "output_type": "execute_result"
    }
   ],
   "source": [
    "array[3][0]"
   ]
  },
  {
   "cell_type": "code",
   "execution_count": 4,
   "metadata": {},
   "outputs": [
    {
     "data": {
      "text/plain": [
       "[True, 'hello world', False, [1, 2, 3], 5]"
      ]
     },
     "execution_count": 4,
     "metadata": {},
     "output_type": "execute_result"
    }
   ],
   "source": [
    "array[0] = True\n",
    "array"
   ]
  },
  {
   "cell_type": "markdown",
   "metadata": {},
   "source": [
    "# String"
   ]
  },
  {
   "cell_type": "markdown",
   "metadata": {},
   "source": [
    "Một ký tự"
   ]
  },
  {
   "cell_type": "code",
   "execution_count": 5,
   "metadata": {},
   "outputs": [
    {
     "name": "stdout",
     "output_type": "stream",
     "text": [
      "a\n"
     ]
    }
   ],
   "source": [
    "a = 'a'\n",
    "print(a)"
   ]
  },
  {
   "cell_type": "markdown",
   "metadata": {},
   "source": [
    "Chuỗi"
   ]
  },
  {
   "cell_type": "code",
   "execution_count": 6,
   "metadata": {},
   "outputs": [],
   "source": [
    "hello = \"Hello\"\n",
    "a = 'Hello world'"
   ]
  },
  {
   "cell_type": "code",
   "execution_count": 7,
   "metadata": {},
   "outputs": [
    {
     "name": "stdout",
     "output_type": "stream",
     "text": [
      "First character:  H\n",
      "Second character:  e\n",
      "Third character:  l\n",
      "Fourth character:  l\n",
      "Fifth character:  o\n"
     ]
    }
   ],
   "source": [
    "print(\"First character: \", hello[0])\n",
    "print(\"Second character: \", hello[1])\n",
    "print(\"Third character: \", hello[2])\n",
    "print(\"Fourth character: \", hello[3])\n",
    "print(\"Fifth character: \", hello[4])"
   ]
  },
  {
   "cell_type": "markdown",
   "metadata": {},
   "source": [
    "# Tuples"
   ]
  },
  {
   "cell_type": "markdown",
   "metadata": {},
   "source": [
    "A tuple is an ordered, immutable collection of elements in Python. It is similar to a list, but unlike lists, tuples cannot be modified once created. Tuples are defined using parentheses `()` and can contain elements of different data types.\n",
    "\n",
    "Tuples are commonly used to store related pieces of information together. For example, you can use a tuple to represent the coordinates of a point in a 2D space, where the first element represents the x-coordinate and the second element represents the y-coordinate.\n",
    "\n",
    "Tuples are useful when you want to ensure that the data remains unchanged throughout your program. Since tuples are immutable, they provide a level of data integrity and can be used as keys in dictionaries.\n",
    "\n",
    "To access elements in a tuple, you can use indexing, similar to lists. The indexing starts from 0, so the first element is at index 0, the second element is at index 1, and so on. You can also use negative indexing to access elements from the end of the tuple.\n",
    "\n",
    "Here's an example of creating and accessing elements in a tuple:\n",
    "\n",
    "```python\n",
    "# Creating a tuple\n",
    "point = (3, 4)\n",
    "\n",
    "# Accessing elements\n",
    "x = point[0]  # x = 3\n",
    "y = point[1]  # y = 4\n",
    "\n",
    "# Accessing elements using negative indexing\n",
    "last_element = point[-1]  # last_element = 4\n",
    "```\n",
    "\n",
    "Tuples can also be used in various operations such as concatenation, repetition, and slicing, similar to lists. However, since tuples are immutable, any operation that modifies the tuple will result in a new tuple being created.\n",
    "\n",
    "Overall, tuples provide a convenient way to store and access related data that should not be modified, ensuring data integrity and immutability in your Python programs."
   ]
  },
  {
   "cell_type": "markdown",
   "metadata": {},
   "source": [
    "Tuple = Mảng không thể thay đổi"
   ]
  },
  {
   "cell_type": "code",
   "execution_count": 8,
   "metadata": {},
   "outputs": [
    {
     "data": {
      "text/plain": [
       "(3, 4, 5, 6, 'myLab', [1, 2, 3])"
      ]
     },
     "execution_count": 8,
     "metadata": {},
     "output_type": "execute_result"
    }
   ],
   "source": [
    "py_tuple = (3, 4, 5, 6, \"myLab\", [1, 2, 3])\n",
    "py_tuple"
   ]
  },
  {
   "cell_type": "code",
   "execution_count": 9,
   "metadata": {},
   "outputs": [
    {
     "data": {
      "text/plain": [
       "3"
      ]
     },
     "execution_count": 9,
     "metadata": {},
     "output_type": "execute_result"
    }
   ],
   "source": [
    "py_tuple[0]"
   ]
  },
  {
   "cell_type": "code",
   "execution_count": 10,
   "metadata": {},
   "outputs": [
    {
     "ename": "TypeError",
     "evalue": "'tuple' object does not support item assignment",
     "output_type": "error",
     "traceback": [
      "\u001b[0;31m---------------------------------------------------------------------------\u001b[0m",
      "\u001b[0;31mTypeError\u001b[0m                                 Traceback (most recent call last)",
      "Cell \u001b[0;32mIn[10], line 1\u001b[0m\n\u001b[0;32m----> 1\u001b[0m \u001b[43mpy_tuple\u001b[49m\u001b[43m[\u001b[49m\u001b[38;5;241;43m0\u001b[39;49m\u001b[43m]\u001b[49m \u001b[38;5;241m=\u001b[39m \u001b[38;5;241m1\u001b[39m\n",
      "\u001b[0;31mTypeError\u001b[0m: 'tuple' object does not support item assignment"
     ]
    }
   ],
   "source": [
    "# py_tuple[0] = 1"
   ]
  },
  {
   "cell_type": "markdown",
   "metadata": {},
   "source": [
    "# Python dictionary"
   ]
  },
  {
   "cell_type": "markdown",
   "metadata": {},
   "source": [
    "__Dictionary là một tập hợp các cặp khóa và giá trị. Mỗi khóa liên kết với một giá trị tương ứng. Điều này giúp bạn lưu trữ và truy xuất dữ liệu dễ dàng hơn.__\n",
    "- Khóa (key): Là một giá trị duy nhất, không thay đổi, và thường là một chuỗi hoặc số. Khóa giúp bạn xác định giá trị tương ứng trong dictionary.\n",
    "- Giá trị (value): Là dữ liệu bạn muốn lưu trữ. Giá trị có thể là bất kỳ kiểu dữ liệu nào, bao gồm số nguyên, số thực, chuỗi, danh sách, hoặc thậm chí là một dictionary khác."
   ]
  },
  {
   "cell_type": "code",
   "execution_count": null,
   "metadata": {},
   "outputs": [
    {
     "data": {
      "text/plain": [
       "{'name': 'John',\n",
       " 'age': 30,\n",
       " 'city': 'New York',\n",
       " 'isMarried': False,\n",
       " 'family': {'ben noi': {'Father': 'John', 'Mother': 'Jane'},\n",
       "  'ben ngoai': {'Father': 'Bob', 'Mother': 'Jane'}}}"
      ]
     },
     "execution_count": 25,
     "metadata": {},
     "output_type": "execute_result"
    }
   ],
   "source": [
    "# khoá: giá trị\n",
    "person = {\n",
    "    \"name\": \"John\",\n",
    "    \"age\": 30,\n",
    "    \"city\": \"New York\",\n",
    "    \"isMarried\": False,\n",
    "    \"family\": {\n",
    "        \"ben noi\": {\"Father\": \"John\", \"Mother\": \"Jane\"},\n",
    "        \"ben ngoai\": {\"Father\": \"Bob\", \"Mother\": \"Jane\"}\n",
    "    }\n",
    "}\n",
    "person"
   ]
  },
  {
   "cell_type": "code",
   "execution_count": null,
   "metadata": {},
   "outputs": [
    {
     "name": "stdout",
     "output_type": "stream",
     "text": [
      "Person name: John\n",
      "Person age: 30\n",
      "Person city: New York\n",
      "Person isMarried: False\n"
     ]
    }
   ],
   "source": [
    "print(f\"\"\"Person name: {person[\"name\"]}\"\"\")\n",
    "print(f\"Person age: {person['age']}\") \n",
    "print(f\"Person city: {person['city']}\")\n",
    "print(f\"Person isMarried: {person['isMarried']}\")"
   ]
  },
  {
   "cell_type": "code",
   "execution_count": null,
   "metadata": {},
   "outputs": [
    {
     "name": "stdout",
     "output_type": "stream",
     "text": [
      "Person family: {'ben noi': {'Father': 'John', 'Mother': 'Jane'}, 'ben ngoai': {'Father': 'Bob', 'Mother': 'Jane'}}\n",
      "Person family ben noi: John\n",
      "Person family ben ngoai: Jane\n"
     ]
    }
   ],
   "source": [
    "print(f\"Person family: {person['family']}\")\n",
    "print(f\"Person family ben noi: {person['family']['ben noi']['Father']}\")\n",
    "print(f\"Person family ben ngoai: {person['family']['ben ngoai']['Mother']}\")"
   ]
  },
  {
   "cell_type": "code",
   "execution_count": null,
   "metadata": {},
   "outputs": [
    {
     "data": {
      "text/plain": [
       "{'name': 'John',\n",
       " 'age': 30,\n",
       " 'city': 'New York',\n",
       " 'isMarried': False,\n",
       " 'family': 1}"
      ]
     },
     "execution_count": 33,
     "metadata": {},
     "output_type": "execute_result"
    }
   ],
   "source": [
    "person['family'] = 1\n",
    "person"
   ]
  },
  {
   "cell_type": "markdown",
   "metadata": {},
   "source": [
    "# Sets"
   ]
  },
  {
   "cell_type": "markdown",
   "metadata": {},
   "source": [
    "__Sets là tập hợp các phần tử độc nhất__"
   ]
  },
  {
   "cell_type": "code",
   "execution_count": null,
   "metadata": {},
   "outputs": [],
   "source": [
    "array = [1, 2, 3, 1, 2, 3, 1, 2, 3]\n",
    "py_set = {1, 2, 3, 1, 2, 3, 1, 2, 3}"
   ]
  },
  {
   "cell_type": "code",
   "execution_count": null,
   "metadata": {},
   "outputs": [
    {
     "data": {
      "text/plain": [
       "[1, 2, 3, 1, 2, 3, 1, 2, 3]"
      ]
     },
     "execution_count": 38,
     "metadata": {},
     "output_type": "execute_result"
    }
   ],
   "source": [
    "array"
   ]
  },
  {
   "cell_type": "code",
   "execution_count": 39,
   "metadata": {},
   "outputs": [
    {
     "ename": "TypeError",
     "evalue": "'set' object is not callable",
     "output_type": "error",
     "traceback": [
      "\u001b[0;31m---------------------------------------------------------------------------\u001b[0m",
      "\u001b[0;31mTypeError\u001b[0m                                 Traceback (most recent call last)",
      "Cell \u001b[0;32mIn[39], line 1\u001b[0m\n\u001b[0;32m----> 1\u001b[0m array_to_set \u001b[38;5;241m=\u001b[39m \u001b[38;5;28;43mset\u001b[39;49m\u001b[43m(\u001b[49m\u001b[43marray\u001b[49m\u001b[43m)\u001b[49m\n",
      "\u001b[0;31mTypeError\u001b[0m: 'set' object is not callable"
     ]
    }
   ],
   "source": [
    "array_to_set = set(array)"
   ]
  }
 ],
 "metadata": {
  "kernelspec": {
   "display_name": "pharma-env",
   "language": "python",
   "name": "python3"
  },
  "language_info": {
   "codemirror_mode": {
    "name": "ipython",
    "version": 3
   },
   "file_extension": ".py",
   "mimetype": "text/x-python",
   "name": "python",
   "nbconvert_exporter": "python",
   "pygments_lexer": "ipython3",
   "version": "3.11.3"
  }
 },
 "nbformat": 4,
 "nbformat_minor": 2
}
