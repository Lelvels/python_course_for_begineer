{
 "cells": [
  {
   "cell_type": "markdown",
   "metadata": {},
   "source": [
    "# Khoá học Python cơ bản\n",
    "## Buổi 2: Giới thiệu về Python cơ bản\n",
    "Thông tin tác giả: \n",
    "- Email: levels1912@gmail.com \n",
    "- SĐT: 0936055146 (có Zalo)"
   ]
  },
  {
   "cell_type": "code",
   "execution_count": 27,
   "metadata": {},
   "outputs": [],
   "source": [
    "import numpy as np\n",
    "import matplotlib.pyplot as plt"
   ]
  },
  {
   "cell_type": "markdown",
   "metadata": {},
   "source": [
    "# Các kiểu dữ liệu non-premitive trong Python"
   ]
  },
  {
   "cell_type": "markdown",
   "metadata": {},
   "source": [
    "# Mảng"
   ]
  },
  {
   "cell_type": "code",
   "execution_count": 1,
   "metadata": {},
   "outputs": [
    {
     "data": {
      "text/plain": [
       "[1, 'hello world', False, [1, 2, 3], 5]"
      ]
     },
     "execution_count": 1,
     "metadata": {},
     "output_type": "execute_result"
    }
   ],
   "source": [
    "array = [1, \"hello world\", False, [1, 2, 3], 5]\n",
    "array"
   ]
  },
  {
   "cell_type": "code",
   "execution_count": 2,
   "metadata": {},
   "outputs": [
    {
     "name": "stdout",
     "output_type": "stream",
     "text": [
      "First element: 1\n",
      "Second element: hello world\n",
      "Third element: False\n",
      "Fourth element: [1, 2, 3]\n",
      "Fifth element: 5\n"
     ]
    }
   ],
   "source": [
    "print(f\"First element: {array[0]}\")\n",
    "print(f\"Second element: {array[1]}\")\n",
    "print(f\"Third element: {array[2]}\")\n",
    "print(f\"Fourth element: {array[3]}\")\n",
    "print(f\"Fifth element: {array[-1]}\") "
   ]
  },
  {
   "cell_type": "code",
   "execution_count": 3,
   "metadata": {},
   "outputs": [
    {
     "data": {
      "text/plain": [
       "1"
      ]
     },
     "execution_count": 3,
     "metadata": {},
     "output_type": "execute_result"
    }
   ],
   "source": [
    "array[3][0]"
   ]
  },
  {
   "cell_type": "code",
   "execution_count": 4,
   "metadata": {},
   "outputs": [
    {
     "data": {
      "text/plain": [
       "[True, 'hello world', False, [1, 2, 3], 5]"
      ]
     },
     "execution_count": 4,
     "metadata": {},
     "output_type": "execute_result"
    }
   ],
   "source": [
    "array[0] = True\n",
    "array"
   ]
  },
  {
   "cell_type": "markdown",
   "metadata": {},
   "source": [
    "# String"
   ]
  },
  {
   "cell_type": "markdown",
   "metadata": {},
   "source": [
    "Một ký tự"
   ]
  },
  {
   "cell_type": "code",
   "execution_count": 5,
   "metadata": {},
   "outputs": [
    {
     "name": "stdout",
     "output_type": "stream",
     "text": [
      "a\n"
     ]
    }
   ],
   "source": [
    "a = 'a'\n",
    "print(a)"
   ]
  },
  {
   "cell_type": "markdown",
   "metadata": {},
   "source": [
    "Chuỗi"
   ]
  },
  {
   "cell_type": "code",
   "execution_count": 6,
   "metadata": {},
   "outputs": [],
   "source": [
    "hello = \"Hello\"\n",
    "a = 'Hello world'"
   ]
  },
  {
   "cell_type": "code",
   "execution_count": 7,
   "metadata": {},
   "outputs": [
    {
     "name": "stdout",
     "output_type": "stream",
     "text": [
      "First character:  H\n",
      "Second character:  e\n",
      "Third character:  l\n",
      "Fourth character:  l\n",
      "Fifth character:  o\n"
     ]
    }
   ],
   "source": [
    "print(\"First character: \", hello[0])\n",
    "print(\"Second character: \", hello[1])\n",
    "print(\"Third character: \", hello[2])\n",
    "print(\"Fourth character: \", hello[3])\n",
    "print(\"Fifth character: \", hello[4])"
   ]
  },
  {
   "cell_type": "markdown",
   "metadata": {},
   "source": [
    "# Tuples"
   ]
  },
  {
   "cell_type": "markdown",
   "metadata": {},
   "source": [
    "A tuple is an ordered, immutable collection of elements in Python. It is similar to a list, but unlike lists, tuples cannot be modified once created. Tuples are defined using parentheses `()` and can contain elements of different data types.\n",
    "\n",
    "Tuples are commonly used to store related pieces of information together. For example, you can use a tuple to represent the coordinates of a point in a 2D space, where the first element represents the x-coordinate and the second element represents the y-coordinate.\n",
    "\n",
    "Tuples are useful when you want to ensure that the data remains unchanged throughout your program. Since tuples are immutable, they provide a level of data integrity and can be used as keys in dictionaries.\n",
    "\n",
    "To access elements in a tuple, you can use indexing, similar to lists. The indexing starts from 0, so the first element is at index 0, the second element is at index 1, and so on. You can also use negative indexing to access elements from the end of the tuple.\n",
    "\n",
    "Here's an example of creating and accessing elements in a tuple:\n",
    "\n",
    "```python\n",
    "# Creating a tuple\n",
    "point = (3, 4)\n",
    "\n",
    "# Accessing elements\n",
    "x = point[0]  # x = 3\n",
    "y = point[1]  # y = 4\n",
    "\n",
    "# Accessing elements using negative indexing\n",
    "last_element = point[-1]  # last_element = 4\n",
    "```\n",
    "\n",
    "Tuples can also be used in various operations such as concatenation, repetition, and slicing, similar to lists. However, since tuples are immutable, any operation that modifies the tuple will result in a new tuple being created.\n",
    "\n",
    "Overall, tuples provide a convenient way to store and access related data that should not be modified, ensuring data integrity and immutability in your Python programs."
   ]
  },
  {
   "cell_type": "markdown",
   "metadata": {},
   "source": [
    "Tuple = Mảng không thể thay đổi"
   ]
  },
  {
   "cell_type": "code",
   "execution_count": 8,
   "metadata": {},
   "outputs": [
    {
     "data": {
      "text/plain": [
       "(3, 4, 5, 6, 'myLab', [1, 2, 3])"
      ]
     },
     "execution_count": 8,
     "metadata": {},
     "output_type": "execute_result"
    }
   ],
   "source": [
    "py_tuple = (3, 4, 5, 6, \"myLab\", [1, 2, 3])\n",
    "py_tuple"
   ]
  },
  {
   "cell_type": "code",
   "execution_count": 9,
   "metadata": {},
   "outputs": [
    {
     "data": {
      "text/plain": [
       "3"
      ]
     },
     "execution_count": 9,
     "metadata": {},
     "output_type": "execute_result"
    }
   ],
   "source": [
    "py_tuple[0]"
   ]
  },
  {
   "cell_type": "code",
   "execution_count": 10,
   "metadata": {},
   "outputs": [],
   "source": [
    "# py_tuple[0] = 1"
   ]
  },
  {
   "cell_type": "markdown",
   "metadata": {},
   "source": [
    "# Python dictionary"
   ]
  },
  {
   "cell_type": "markdown",
   "metadata": {},
   "source": [
    "__Dictionary là một tập hợp các cặp khóa và giá trị. Mỗi khóa liên kết với một giá trị tương ứng. Điều này giúp bạn lưu trữ và truy xuất dữ liệu dễ dàng hơn.__\n",
    "- Khóa (key): Là một giá trị duy nhất, không thay đổi, và thường là một chuỗi hoặc số. Khóa giúp bạn xác định giá trị tương ứng trong dictionary.\n",
    "- Giá trị (value): Là dữ liệu bạn muốn lưu trữ. Giá trị có thể là bất kỳ kiểu dữ liệu nào, bao gồm số nguyên, số thực, chuỗi, danh sách, hoặc thậm chí là một dictionary khác."
   ]
  },
  {
   "cell_type": "code",
   "execution_count": 11,
   "metadata": {},
   "outputs": [
    {
     "data": {
      "text/plain": [
       "{'name': 'John',\n",
       " 'age': 30,\n",
       " 'city': 'New York',\n",
       " 'isMarried': False,\n",
       " 'family': {'ben noi': {'Father': 'John', 'Mother': 'Jane'},\n",
       "  'ben ngoai': {'Father': 'Bob', 'Mother': 'Jane'}}}"
      ]
     },
     "execution_count": 11,
     "metadata": {},
     "output_type": "execute_result"
    }
   ],
   "source": [
    "# khoá: giá trị\n",
    "person = {\n",
    "    \"name\": \"John\",\n",
    "    \"age\": 30,\n",
    "    \"city\": \"New York\",\n",
    "    \"isMarried\": False,\n",
    "    \"family\": {\n",
    "        \"ben noi\": {\"Father\": \"John\", \"Mother\": \"Jane\"},\n",
    "        \"ben ngoai\": {\"Father\": \"Bob\", \"Mother\": \"Jane\"}\n",
    "    }\n",
    "}\n",
    "person"
   ]
  },
  {
   "cell_type": "code",
   "execution_count": 12,
   "metadata": {},
   "outputs": [
    {
     "name": "stdout",
     "output_type": "stream",
     "text": [
      "Person name: John\n",
      "Person age: 30\n",
      "Person city: New York\n",
      "Person isMarried: False\n"
     ]
    }
   ],
   "source": [
    "print(f\"\"\"Person name: {person[\"name\"]}\"\"\")\n",
    "print(f\"Person age: {person['age']}\") \n",
    "print(f\"Person city: {person['city']}\")\n",
    "print(f\"Person isMarried: {person['isMarried']}\")"
   ]
  },
  {
   "cell_type": "code",
   "execution_count": 13,
   "metadata": {},
   "outputs": [
    {
     "name": "stdout",
     "output_type": "stream",
     "text": [
      "Person family: {'ben noi': {'Father': 'John', 'Mother': 'Jane'}, 'ben ngoai': {'Father': 'Bob', 'Mother': 'Jane'}}\n",
      "Person family ben noi: John\n",
      "Person family ben ngoai: Jane\n"
     ]
    }
   ],
   "source": [
    "print(f\"Person family: {person['family']}\")\n",
    "print(f\"Person family ben noi: {person['family']['ben noi']['Father']}\")\n",
    "print(f\"Person family ben ngoai: {person['family']['ben ngoai']['Mother']}\")"
   ]
  },
  {
   "cell_type": "code",
   "execution_count": 14,
   "metadata": {},
   "outputs": [
    {
     "data": {
      "text/plain": [
       "{'name': 'John',\n",
       " 'age': 30,\n",
       " 'city': 'New York',\n",
       " 'isMarried': False,\n",
       " 'family': 1}"
      ]
     },
     "execution_count": 14,
     "metadata": {},
     "output_type": "execute_result"
    }
   ],
   "source": [
    "person['family'] = 1\n",
    "person"
   ]
  },
  {
   "cell_type": "markdown",
   "metadata": {},
   "source": [
    "# Sets"
   ]
  },
  {
   "cell_type": "markdown",
   "metadata": {},
   "source": [
    "__Sets là tập hợp các phần tử độc nhất__"
   ]
  },
  {
   "cell_type": "code",
   "execution_count": 15,
   "metadata": {},
   "outputs": [],
   "source": [
    "array = [1, 2, 3, 1, 2, 3, 1, 2, 3]\n",
    "py_set = {1, 2, 3, 1, 2, 3, 1, 2, 3}"
   ]
  },
  {
   "cell_type": "code",
   "execution_count": 16,
   "metadata": {},
   "outputs": [
    {
     "data": {
      "text/plain": [
       "{1, 2, 3}"
      ]
     },
     "execution_count": 16,
     "metadata": {},
     "output_type": "execute_result"
    }
   ],
   "source": [
    "py_set"
   ]
  },
  {
   "cell_type": "code",
   "execution_count": 17,
   "metadata": {},
   "outputs": [
    {
     "data": {
      "text/plain": [
       "[1, 2, 3, 1, 2, 3, 1, 2, 3]"
      ]
     },
     "execution_count": 17,
     "metadata": {},
     "output_type": "execute_result"
    }
   ],
   "source": [
    "array"
   ]
  },
  {
   "cell_type": "code",
   "execution_count": 18,
   "metadata": {},
   "outputs": [
    {
     "data": {
      "text/plain": [
       "{1, 2, 3}"
      ]
     },
     "execution_count": 18,
     "metadata": {},
     "output_type": "execute_result"
    }
   ],
   "source": [
    "array_to_set = set(array)\n",
    "array_to_set"
   ]
  },
  {
   "cell_type": "markdown",
   "metadata": {},
   "source": [
    "# Biến trong Python"
   ]
  },
  {
   "cell_type": "markdown",
   "metadata": {},
   "source": [
    "## Giới thiệu"
   ]
  },
  {
   "cell_type": "code",
   "execution_count": 21,
   "metadata": {},
   "outputs": [
    {
     "name": "stdout",
     "output_type": "stream",
     "text": [
      "[1, 2, 3]\n"
     ]
    }
   ],
   "source": [
    "a = 3 \n",
    "a = \"Hello world\"\n",
    "a = [1, 2, 3]\n",
    "print(a)"
   ]
  },
  {
   "cell_type": "markdown",
   "metadata": {},
   "source": [
    "# Cách đặt tên biến\n",
    "__Quy tắc khi đặt tên biến__\n",
    "- Không nên có ký tự đặc biệt: @, #, $, %.\n",
    "- Không nên đặt tên biến bằng tiếng Việt.\n",
    "- Không nên bắt đầu bằng số\n",
    "\n",
    "__Cách đặt tên biến__\n",
    "- Khi đặt tên biến thì phải có mục đích rõ ràng.\n",
    "- Các cách đặt tên biến Snakecase với cả CamelCase"
   ]
  },
  {
   "cell_type": "code",
   "execution_count": 24,
   "metadata": {},
   "outputs": [
    {
     "data": {
      "text/plain": [
       "5.0"
      ]
     },
     "execution_count": 24,
     "metadata": {},
     "output_type": "execute_result"
    }
   ],
   "source": [
    "# Không nên đặt tên biến tối nghĩa\n",
    "a = 3\n",
    "b = 4\n",
    "c = np.sqrt(a**2 + b**2)\n",
    "c\n",
    "\n",
    "# Đặt tên biến một cách rõ ràng, có mục đích\n",
    "canh1 = 3\n",
    "canh2 = 4\n",
    "canh3 = np.sqrt(canh1**2 + canh2**2)\n",
    "canh3"
   ]
  },
  {
   "cell_type": "code",
   "execution_count": 25,
   "metadata": {},
   "outputs": [
    {
     "data": {
      "text/plain": [
       "5.0"
      ]
     },
     "execution_count": 25,
     "metadata": {},
     "output_type": "execute_result"
    }
   ],
   "source": [
    "canh_tam_giac_vuong_1 = 3 # Snake case\n",
    "canhTamGiacVuong = 3      # Camel case\n",
    "\n",
    "# Không nên\n",
    "canh_Tam_Giac_Vuong = 3"
   ]
  },
  {
   "cell_type": "markdown",
   "metadata": {},
   "source": [
    "# Hàm"
   ]
  },
  {
   "cell_type": "markdown",
   "metadata": {},
   "source": [
    "__Hàm trong python là một khối lệnh được tổ chức và có thể tái sử dụng nhằm thực hiện một tác vụ cụ thể__\n",
    "- Hàm tích hợp sẵn (API): Đây là các hàm đã được xây dựng sẵn trong Python, như hàm print(). Chúng giúp bạn thực hiện các tác vụ thông thường mà không cần tự định nghĩa.\n",
    "- Hàm tự định nghĩa"
   ]
  },
  {
   "cell_type": "markdown",
   "metadata": {},
   "source": [
    "## Sử dụng hàm sẵn"
   ]
  },
  {
   "cell_type": "code",
   "execution_count": 26,
   "metadata": {},
   "outputs": [
    {
     "name": "stdout",
     "output_type": "stream",
     "text": [
      "Hello world\n"
     ]
    }
   ],
   "source": [
    "print(\"Hello world\")"
   ]
  },
  {
   "cell_type": "code",
   "execution_count": 28,
   "metadata": {},
   "outputs": [
    {
     "data": {
      "image/png": "[encoded data removed]",
      "text/plain": [
       "<Figure size 640x480 with 1 Axes>"
      ]
     },
     "metadata": {},
     "output_type": "display_data"
    }
   ],
   "source": [
    "import matplotlib.pyplot as plt\n",
    "import numpy as np\n",
    "\n",
    "# Generate some random data\n",
    "x = np.random.rand(50)\n",
    "y = np.random.rand(50)\n",
    "\n",
    "# Create a scatter plot\n",
    "plt.scatter(x, y, label='Random Data', color='b', marker='o')\n",
    "\n",
    "# Add labels and a title\n",
    "plt.xlabel('X-axis')\n",
    "plt.ylabel('Y-axis')\n",
    "plt.title('Random Scatter Plot')\n",
    "\n",
    "# Show the legend\n",
    "plt.legend()\n",
    "\n",
    "# Display the plot\n",
    "plt.show()"
   ]
  },
  {
   "cell_type": "markdown",
   "metadata": {},
   "source": [
    "## Tự định nghĩa hàm"
   ]
  },
  {
   "cell_type": "code",
   "execution_count": 29,
   "metadata": {},
   "outputs": [
    {
     "data": {
      "text/plain": [
       "7"
      ]
     },
     "execution_count": 29,
     "metadata": {},
     "output_type": "execute_result"
    }
   ],
   "source": [
    "def add():\n",
    "    a = 3\n",
    "    b = 4\n",
    "    return a + b    \n",
    "\n",
    "add()"
   ]
  },
  {
   "cell_type": "code",
   "execution_count": 30,
   "metadata": {},
   "outputs": [
    {
     "data": {
      "text/plain": [
       "7"
      ]
     },
     "execution_count": 30,
     "metadata": {},
     "output_type": "execute_result"
    }
   ],
   "source": [
    "def add(a, b):\n",
    "    return a + b\n",
    "\n",
    "add(3, 4) # tham số a = 3, b = 4"
   ]
  },
  {
   "cell_type": "code",
   "execution_count": 32,
   "metadata": {},
   "outputs": [
    {
     "data": {
      "text/plain": [
       "7"
      ]
     },
     "execution_count": 32,
     "metadata": {},
     "output_type": "execute_result"
    }
   ],
   "source": [
    "add(b=4, a=3) "
   ]
  },
  {
   "cell_type": "markdown",
   "metadata": {},
   "source": [
    "### Đặt tham số mặc định"
   ]
  },
  {
   "cell_type": "code",
   "execution_count": 38,
   "metadata": {},
   "outputs": [
    {
     "name": "stdout",
     "output_type": "stream",
     "text": [
      "a = 3, b = 4\n"
     ]
    },
    {
     "data": {
      "text/plain": [
       "7"
      ]
     },
     "execution_count": 38,
     "metadata": {},
     "output_type": "execute_result"
    }
   ],
   "source": [
    "def add(a, b=4):\n",
    "    print(f\"a = {a}, b = {b}\")\n",
    "    return a + b\n",
    "\n",
    "add(3)"
   ]
  },
  {
   "cell_type": "code",
   "execution_count": 36,
   "metadata": {},
   "outputs": [
    {
     "name": "stdout",
     "output_type": "stream",
     "text": [
      "a = 4, b = 4\n"
     ]
    },
    {
     "data": {
      "text/plain": [
       "8"
      ]
     },
     "execution_count": 36,
     "metadata": {},
     "output_type": "execute_result"
    }
   ],
   "source": [
    "add(4) # Gán biến đầu vào đầu tiên của hàm bằng 3, biến thứ hai bằng 4"
   ]
  },
  {
   "cell_type": "markdown",
   "metadata": {},
   "source": [
    "### Truyền tham số cho hàm"
   ]
  },
  {
   "cell_type": "code",
   "execution_count": 40,
   "metadata": {},
   "outputs": [
    {
     "name": "stdout",
     "output_type": "stream",
     "text": [
      "(1, 2, 3)\n"
     ]
    },
    {
     "data": {
      "text/plain": [
       "6"
      ]
     },
     "execution_count": 40,
     "metadata": {},
     "output_type": "execute_result"
    }
   ],
   "source": [
    "def add(*argv):\n",
    "    print(argv)\n",
    "    return sum(argv)\n",
    "\n",
    "add(1, 2, 3)"
   ]
  },
  {
   "cell_type": "code",
   "execution_count": 45,
   "metadata": {},
   "outputs": [
    {
     "name": "stdout",
     "output_type": "stream",
     "text": [
      "({'so_thu_1': 2, 'so_thu_2': 1},)\n",
      "Số thứ nhất: 2\n",
      "Số thứ hai: 1\n"
     ]
    },
    {
     "data": {
      "text/plain": [
       "1"
      ]
     },
     "execution_count": 45,
     "metadata": {},
     "output_type": "execute_result"
    }
   ],
   "source": [
    "def subtract(*argv):\n",
    "    print(argv)\n",
    "    argv = argv[0]\n",
    "    print(f\"Số thứ nhất: {argv['so_thu_1']}\")\n",
    "    print(f\"Số thứ hai: {argv['so_thu_2']}\")\n",
    "    \n",
    "    return argv['so_thu_1'] - argv['so_thu_2']\n",
    "\n",
    "input_dict = {\n",
    "    \"so_thu_1\": 2,\n",
    "    \"so_thu_2\": 1\n",
    "}\n",
    "\n",
    "subtract(input_dict)"
   ]
  },
  {
   "cell_type": "markdown",
   "metadata": {},
   "source": [
    "### Hàm chuyển kiểu dữ liệu"
   ]
  },
  {
   "cell_type": "markdown",
   "metadata": {},
   "source": [
    "__Ví dụ về hàm chuyển kiểu dữ liệu__"
   ]
  },
  {
   "cell_type": "markdown",
   "metadata": {},
   "source": [
    "__Kiểu dữ liệu chuỗi - str()__"
   ]
  },
  {
   "cell_type": "code",
   "execution_count": 47,
   "metadata": {},
   "outputs": [
    {
     "ename": "TypeError",
     "evalue": "can only concatenate str (not \"int\") to str",
     "output_type": "error",
     "traceback": [
      "\u001b[0;31m---------------------------------------------------------------------------\u001b[0m",
      "\u001b[0;31mTypeError\u001b[0m                                 Traceback (most recent call last)",
      "Cell \u001b[0;32mIn[47], line 1\u001b[0m\n\u001b[0;32m----> 1\u001b[0m \u001b[38;5;28mprint\u001b[39m(\u001b[38;5;124;43m\"\u001b[39;49m\u001b[38;5;124;43mCo \u001b[39;49m\u001b[38;5;124;43m\"\u001b[39;49m\u001b[43m \u001b[49m\u001b[38;5;241;43m+\u001b[39;49m\u001b[43m \u001b[49m\u001b[38;5;241;43m5\u001b[39;49m \u001b[38;5;241m+\u001b[39m \u001b[38;5;124m\"\u001b[39m\u001b[38;5;124m Qua tao\u001b[39m\u001b[38;5;124m\"\u001b[39m)\n",
      "\u001b[0;31mTypeError\u001b[0m: can only concatenate str (not \"int\") to str"
     ]
    }
   ],
   "source": [
    "print(\"Co \" + 5 + \" Qua tao\")"
   ]
  },
  {
   "cell_type": "code",
   "execution_count": 48,
   "metadata": {},
   "outputs": [
    {
     "name": "stdout",
     "output_type": "stream",
     "text": [
      "Co 5 Qua tao\n"
     ]
    }
   ],
   "source": [
    "print(\"Co \" + str(5) + \" Qua tao\")"
   ]
  },
  {
   "cell_type": "markdown",
   "metadata": {},
   "source": [
    "__Kiểu số nguyên - int()__"
   ]
  },
  {
   "cell_type": "code",
   "execution_count": null,
   "metadata": {},
   "outputs": [],
   "source": [
    "# 3 + \"25\""
   ]
  },
  {
   "cell_type": "code",
   "execution_count": 51,
   "metadata": {},
   "outputs": [
    {
     "data": {
      "text/plain": [
       "28"
      ]
     },
     "execution_count": 51,
     "metadata": {},
     "output_type": "execute_result"
    }
   ],
   "source": [
    "3 + int(\"25\")"
   ]
  },
  {
   "cell_type": "markdown",
   "metadata": {},
   "source": [
    "__Kiểu số thập phân - float()__"
   ]
  },
  {
   "cell_type": "code",
   "execution_count": 52,
   "metadata": {},
   "outputs": [
    {
     "data": {
      "text/plain": [
       "25.5"
      ]
     },
     "execution_count": 52,
     "metadata": {},
     "output_type": "execute_result"
    }
   ],
   "source": [
    "float(\"25.5\")"
   ]
  },
  {
   "cell_type": "markdown",
   "metadata": {},
   "source": [
    "__Kiểu boolean - bool()__"
   ]
  },
  {
   "cell_type": "code",
   "execution_count": 53,
   "metadata": {},
   "outputs": [
    {
     "data": {
      "text/plain": [
       "True"
      ]
     },
     "execution_count": 53,
     "metadata": {},
     "output_type": "execute_result"
    }
   ],
   "source": [
    "bool(2)"
   ]
  },
  {
   "cell_type": "code",
   "execution_count": 55,
   "metadata": {},
   "outputs": [
    {
     "data": {
      "text/plain": [
       "True"
      ]
     },
     "execution_count": 55,
     "metadata": {},
     "output_type": "execute_result"
    }
   ],
   "source": [
    "bool(-1)"
   ]
  },
  {
   "cell_type": "code",
   "execution_count": 56,
   "metadata": {},
   "outputs": [
    {
     "data": {
      "text/plain": [
       "False"
      ]
     },
     "execution_count": 56,
     "metadata": {},
     "output_type": "execute_result"
    }
   ],
   "source": [
    "bool(0)"
   ]
  },
  {
   "cell_type": "markdown",
   "metadata": {},
   "source": [
    "__Hàm kiểm tra kiểu dữ liệu__"
   ]
  },
  {
   "cell_type": "code",
   "execution_count": 57,
   "metadata": {},
   "outputs": [
    {
     "name": "stdout",
     "output_type": "stream",
     "text": [
      "<class 'int'>\n"
     ]
    }
   ],
   "source": [
    "print(type(3)) "
   ]
  },
  {
   "cell_type": "code",
   "execution_count": 58,
   "metadata": {},
   "outputs": [
    {
     "name": "stdout",
     "output_type": "stream",
     "text": [
      "<class 'str'>\n"
     ]
    }
   ],
   "source": [
    "print(type(\"hello\")) "
   ]
  },
  {
   "cell_type": "markdown",
   "metadata": {},
   "source": [
    "# Vòng lặp trong Python"
   ]
  },
  {
   "cell_type": "markdown",
   "metadata": {},
   "source": [
    "## Vòng lặp while\n",
    "- Lặp lại liên tục cho đến một điều kiện xác định.\n",
    "- Đảm bảo điều kiện kết thúc, nếu không thì vòng lặp sẽ chạy đến vô tận."
   ]
  },
  {
   "cell_type": "code",
   "execution_count": null,
   "metadata": {},
   "outputs": [],
   "source": [
    "i = 0\n",
    "while(i < 5):\n",
    "    print(f\"Lần lặp thứ {i}\")\n",
    "    i += 1"
   ]
  },
  {
   "cell_type": "markdown",
   "metadata": {},
   "source": [
    "## Vòng lặp For\n",
    "- Lặp lại trong một số lần xác định"
   ]
  },
  {
   "cell_type": "code",
   "execution_count": 62,
   "metadata": {},
   "outputs": [
    {
     "data": {
      "text/plain": [
       "range(0, 5)"
      ]
     },
     "execution_count": 62,
     "metadata": {},
     "output_type": "execute_result"
    }
   ],
   "source": [
    "range(5) #0, 1, 2, 3, 4"
   ]
  },
  {
   "cell_type": "code",
   "execution_count": 63,
   "metadata": {},
   "outputs": [
    {
     "name": "stdout",
     "output_type": "stream",
     "text": [
      "Lần lặp thứ 0\n",
      "Lần lặp thứ 1\n",
      "Lần lặp thứ 2\n",
      "Lần lặp thứ 3\n",
      "Lần lặp thứ 4\n"
     ]
    }
   ],
   "source": [
    "for i in range(5):\n",
    "    print(f\"Lần lặp thứ {i}\")"
   ]
  },
  {
   "cell_type": "code",
   "execution_count": 66,
   "metadata": {},
   "outputs": [
    {
     "name": "stdout",
     "output_type": "stream",
     "text": [
      "Lần lặp thứ 1\n",
      "Lần lặp thứ 3\n"
     ]
    }
   ],
   "source": [
    "for i in range(1, 5, 2):\n",
    "    print(f\"Lần lặp thứ {i}\") "
   ]
  },
  {
   "cell_type": "code",
   "execution_count": 68,
   "metadata": {},
   "outputs": [
    {
     "name": "stdout",
     "output_type": "stream",
     "text": [
      "10 không có trong list\n"
     ]
    }
   ],
   "source": [
    "my_list = [1, 2, 3, 4, 5]\n",
    "i = 10\n",
    "if i in my_list:\n",
    "    print(f\"{i} có trong list\")\n",
    "else:\n",
    "    print(f\"{i} không có trong list\")"
   ]
  },
  {
   "cell_type": "code",
   "execution_count": 71,
   "metadata": {},
   "outputs": [
    {
     "name": "stdout",
     "output_type": "stream",
     "text": [
      "world không có trong chuỗi\n"
     ]
    }
   ],
   "source": [
    "my_string = \"Hello, world\"\n",
    "if \"abs\" in my_string:\n",
    "    print(\"world có trong chuỗi\")\n",
    "else:\n",
    "    print(\"world không có trong chuỗi\")"
   ]
  },
  {
   "cell_type": "markdown",
   "metadata": {},
   "source": [
    "# Điều kiện trong Python"
   ]
  },
  {
   "cell_type": "code",
   "execution_count": 73,
   "metadata": {},
   "outputs": [
    {
     "name": "stdout",
     "output_type": "stream",
     "text": [
      "a nhỏ hơn 5\n"
     ]
    }
   ],
   "source": [
    "a = 4\n",
    "if (a > 5):\n",
    "    print(f\"a lớn hơn 5\")\n",
    "else:\n",
    "    print(f\"a nhỏ hơn 5\")"
   ]
  },
  {
   "cell_type": "code",
   "execution_count": 74,
   "metadata": {},
   "outputs": [
    {
     "name": "stdout",
     "output_type": "stream",
     "text": [
      "Trẻ em\n"
     ]
    }
   ],
   "source": [
    "do_tuoi = 15\n",
    "if (do_tuoi >= 18 and do_tuoi <= 60):\n",
    "    print(\"Độ tuổi lao động.\")\n",
    "elif(do_tuoi <= 18):\n",
    "    print(\"Trẻ em\")\n",
    "else:\n",
    "    print(\"Người già\")"
   ]
  },
  {
   "cell_type": "markdown",
   "metadata": {},
   "source": [
    "# Bài tập "
   ]
  },
  {
   "cell_type": "markdown",
   "metadata": {},
   "source": [
    "__I. Bài tập về mảng:__\n",
    "- 1. Create a list of your favorite fruits. Print the entire list and then print the third fruit in the list.\n",
    "- 2. Given a list of numbers, find the sum of all even numbers in the list.\n",
    "- 3. Write a program that removes duplicates from a list. "
   ]
  },
  {
   "cell_type": "markdown",
   "metadata": {},
   "source": [
    "__II. Bài tập về Dictionary__\n",
    "- Create a dictionary representing information about a book (e.g., title, author, year). Print out the book’s title.\n",
    "- Add a new key-value pair to the dictionary (e.g., “genre”: “Science Fiction”).\n",
    "- Iterate through the dictionary and print all key-value pairs."
   ]
  },
  {
   "cell_type": "code",
   "execution_count": 22,
   "metadata": {},
   "outputs": [
    {
     "data": {
      "text/plain": [
       "{'title': 'Clean code', 'author': 'Robert C. Martin', 'year': 2008}"
      ]
     },
     "execution_count": 22,
     "metadata": {},
     "output_type": "execute_result"
    }
   ],
   "source": [
    "book = {\n",
    "    \"title\": \"Clean code\",\n",
    "    \"author\": \"Robert C. Martin\",\n",
    "    \"year\": 2008\n",
    "}\n",
    "book"
   ]
  },
  {
   "cell_type": "code",
   "execution_count": 26,
   "metadata": {},
   "outputs": [
    {
     "data": {
      "text/plain": [
       "{'title': 'Clean code',\n",
       " 'author': 'Robert C. Martin',\n",
       " 'year': 2008,\n",
       " 'genre': 'Software engineering'}"
      ]
     },
     "execution_count": 26,
     "metadata": {},
     "output_type": "execute_result"
    }
   ],
   "source": [
    "book[\"title\"] = \"Clean code\"\n",
    "book"
   ]
  },
  {
   "cell_type": "code",
   "execution_count": 31,
   "metadata": {},
   "outputs": [
    {
     "name": "stdout",
     "output_type": "stream",
     "text": [
      "Key title: Clean code\n",
      "Key author: Robert C. Martin\n",
      "Key year: 2008\n",
      "Key genre: Software engineering\n"
     ]
    }
   ],
   "source": [
    "for key in book:\n",
    "    print(f\"Key {key}: {book[key]}\")"
   ]
  },
  {
   "cell_type": "markdown",
   "metadata": {},
   "source": [
    "__III. Bài tập về Sets__\n",
    "- Cho hai set như sau: {1, 3, 3, 4, 5, 6} và {2, 4, 7, 8, 3, 4}.\n",
    "- Tìm các phần tử giao nhau giữa hai set."
   ]
  },
  {
   "cell_type": "code",
   "execution_count": 42,
   "metadata": {},
   "outputs": [
    {
     "data": {
      "text/plain": [
       "[3, 4]"
      ]
     },
     "execution_count": 42,
     "metadata": {},
     "output_type": "execute_result"
    }
   ],
   "source": [
    "# Cách 1\n",
    "set1 = {1, 3, 3, 4, 5, 6}\n",
    "set2 = {2, 4, 7, 8, 3, 4}\n",
    "result = []\n",
    "for i in set1:\n",
    "    for j in set2:\n",
    "        if i == j:\n",
    "            result.append(i)\n",
    "result"
   ]
  },
  {
   "cell_type": "code",
   "execution_count": 43,
   "metadata": {},
   "outputs": [
    {
     "data": {
      "text/plain": [
       "{3, 4}"
      ]
     },
     "execution_count": 43,
     "metadata": {},
     "output_type": "execute_result"
    }
   ],
   "source": [
    "set1.intersection(set2)"
   ]
  },
  {
   "cell_type": "markdown",
   "metadata": {},
   "source": [
    "# IV. Bài tập tổng hợp\n",
    "- Chuyển ký tự La mã thành số\n",
    "- I, V, X, L, C, D and M\n",
    "- Giá trị của các con số La mã:\n",
    "    Symbol       Value\n",
    "    I             1\n",
    "    V             5\n",
    "    X             10\n",
    "    L             50\n",
    "    C             100\n",
    "    D             500\n",
    "    M             1000\n",
    "- XXVII = XX + V + II = 10 + 10 + 5 + 2 = 27\n",
    "- Không viết IIII = 4\n",
    "- Viết IV = 4 => V - I = 4\n",
    "- IV = 5 - 1 = 4\n",
    "- IX = 10 - 1 = 9\n",
    "- XL = 50 - 10 = 40\n",
    "- XC = 100 - 10 = 90\n",
    "- CD = 500 - 100 = 400\n",
    "- CM = 1000 - 100 = 900\n",
    "\n",
    "- Viết một hàm nhận đầu vào là một chuỗi, và đầu ra là con số tương ứng với số la mã.\n",
    "- Ví dụ: \n",
    "s = \"III\" => đầu ra = 3\n",
    "s = \"LVIII\" => đầu ra = L + V + III = 50 + 5 + 3 = 58\n",
    "s = \"MCMXCIV\" => đầu ra = M + CM + XC + 4 = 1000 + 900 + 90 + 4 = 1994"
   ]
  }
 ],
 "metadata": {
  "kernelspec": {
   "display_name": "pharma-env",
   "language": "python",
   "name": "python3"
  },
  "language_info": {
   "codemirror_mode": {
    "name": "ipython",
    "version": 3
   },
   "file_extension": ".py",
   "mimetype": "text/x-python",
   "name": "python",
   "nbconvert_exporter": "python",
   "pygments_lexer": "ipython3",
   "version": "3.12.4"
  }
 },
 "nbformat": 4,
 "nbformat_minor": 2
}
